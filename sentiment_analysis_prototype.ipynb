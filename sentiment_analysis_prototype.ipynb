{
  "nbformat": 4,
  "nbformat_minor": 0,
  "metadata": {
    "colab": {
      "name": "sentiment_analysis_prototype",
      "version": "0.3.2",
      "provenance": [],
      "toc_visible": true
    },
    "kernelspec": {
      "name": "python3",
      "display_name": "Python 3"
    }
  },
  "cells": [
    {
      "metadata": {
        "id": "il1JaLVjru9P",
        "colab_type": "text"
      },
      "cell_type": "markdown",
      "source": [
        "#Sentiment Analysis"
      ]
    },
    {
      "metadata": {
        "id": "v4Ugxi5UWmFY",
        "colab_type": "text"
      },
      "cell_type": "markdown",
      "source": [
        "### Dependencies"
      ]
    },
    {
      "metadata": {
        "id": "XxmgpxWn8AA4",
        "colab_type": "code",
        "outputId": "2b1ae37d-0b33-4913-887c-b62271bd7a59",
        "colab": {
          "base_uri": "https://localhost:8080/",
          "height": 202
        }
      },
      "cell_type": "code",
      "source": [
        "import nltk\n",
        "from nltk import sentiment\n",
        "from nltk.sentiment.vader import SentimentIntensityAnalyzer\n",
        "\n",
        "\n",
        "\n",
        "\n",
        "\n",
        "nltk.download('punkt')\n",
        "nltk.download('averaged_perceptron_tagger')\n",
        "nltk.download('vader_lexicon')"
      ],
      "execution_count": 1,
      "outputs": [
        {
          "output_type": "stream",
          "text": [
            "/usr/local/lib/python3.6/dist-packages/nltk/twitter/__init__.py:20: UserWarning: The twython library has not been installed. Some functionality from the twitter package will not be available.\n",
            "  warnings.warn(\"The twython library has not been installed. \"\n"
          ],
          "name": "stderr"
        },
        {
          "output_type": "stream",
          "text": [
            "[nltk_data] Downloading package punkt to /root/nltk_data...\n",
            "[nltk_data]   Unzipping tokenizers/punkt.zip.\n",
            "[nltk_data] Downloading package averaged_perceptron_tagger to\n",
            "[nltk_data]     /root/nltk_data...\n",
            "[nltk_data]   Unzipping taggers/averaged_perceptron_tagger.zip.\n",
            "[nltk_data] Downloading package vader_lexicon to /root/nltk_data...\n"
          ],
          "name": "stdout"
        },
        {
          "output_type": "execute_result",
          "data": {
            "text/plain": [
              "True"
            ]
          },
          "metadata": {
            "tags": []
          },
          "execution_count": 1
        }
      ]
    },
    {
      "metadata": {
        "id": "UhN5h5kbWrdb",
        "colab_type": "text"
      },
      "cell_type": "markdown",
      "source": [
        "## Sentiment Analysis object"
      ]
    },
    {
      "metadata": {
        "id": "7DcZvaaH8MiX",
        "colab_type": "code",
        "colab": {}
      },
      "cell_type": "code",
      "source": [
        "sid = nltk.sentiment.vader.SentimentIntensityAnalyzer()\n",
        "\n"
      ],
      "execution_count": 0,
      "outputs": []
    },
    {
      "metadata": {
        "id": "eOnOvYRNW3mf",
        "colab_type": "text"
      },
      "cell_type": "markdown",
      "source": [
        "##Interacting with the sentiment analysis object"
      ]
    },
    {
      "metadata": {
        "id": "LJikWwTx82xu",
        "colab_type": "code",
        "colab": {}
      },
      "cell_type": "code",
      "source": [
        "\n",
        "\n",
        "\n",
        "\n",
        "def basic_sentiment_analysis(reviews):\n",
        "  \n",
        "  text_value_dicts = []\n",
        "  \n",
        "  total_score = 0\n",
        " \n",
        "  i = 1\n",
        "  \n",
        "  for review in reviews:\n",
        "    sentiment_values = sid.polarity_scores(review)\n",
        "\n",
        "    \n",
        "    total_score += abs(sentiment_values['compound'])\n",
        "    \n",
        "    txt_val_dict = {'id': i, 'score': sentiment_values['compound'], 'review': review, 'stars': 0}\n",
        "    \n",
        "    text_value_dicts.append(txt_val_dict)\n",
        "    i+=1\n",
        "\n",
        "  weighted_average = total_score/len(reviews)\n",
        "  \n",
        "  #for dict in text_value_dicts:\n",
        "    \n",
        "    \n",
        "    #if score >= 0:\n",
        "      #weighted_score = \n",
        "    \n",
        "   \n",
        "  return text_value_dicts"
      ],
      "execution_count": 0,
      "outputs": []
    },
    {
      "metadata": {
        "id": "Sk0AqagH_Bfs",
        "colab_type": "code",
        "colab": {}
      },
      "cell_type": "code",
      "source": [
        "review_list = [\n",
        "    \n",
        "    \n",
        " 'Warren Beatty has never been so entertaining.',\n",
        " 'Unbelievably bad acting!!',\n",
        " \"I like to hate Michael Bay films, but I couldn't fault this one\",\n",
        " 'The wait staff was HORRIBLE',\n",
        " 'I thoroughly enjoyed my meal',\n",
        " 'I feel ripped off and cheated',\n",
        " 'My family and I had a wonderful time at the restaurant.',\n",
        " 'I like to hate Michael Bay films, and this time is no different.',\n",
        " 'The Chicken sandwich with cheese and lettuce. I also get it with their fries, which are waffle fries!!!',\n",
        " \"I've never had a complaint here, get the usual which is a #2 Spicy Chicken sandwich with sweet tea and I'm happy!\",\n",
        " \"The Polynesian sauce is a little meh, but the Chick-fil-A honey mustard is pretty FTW.\",\n",
        " 'The food is so delicious and tasty overall and the milkshakes are one of the absolute best I ever had!',\n",
        " \"I also like the decor of the restaurant, I felt like I was at a restaurant and not a fast food joint.\",\n",
        " \"This location was a disappointment. Literally a mess, if you like stale fries, and cold chicken then pull up. Otherwise go to another location.\",\n",
        " \"Drive through line was 40 minutes long. Food was cold and the people working were clueless and rushing the service. Probably the worst I've ever been spoken to at a chick-fil-A. And how do you even run out of large fries?\",\n",
        "\"My review highlights this location only: PLUS - The Original Chicken Sandwich was perfect. Staff provided smooth service and were courteous from start to finish. MINUS - The fries were soggy - limp and just sad. The place was packed, and while the cashiers did a great job of moving the line through quickly, our to-go order got passed up, and we had to ask where our order was after seeing several other orders move through. I don't know if it had to be re-made or was just overlooked on the counter, but it wasn't fun having to deal with. \",\n",
        "\"Wow, just wow! Was expecting my chicken sandwich and I got tiny pieces of meat. I hate Chick-fill-a today or whoever served me up. The person even repeated my order, and gave me the wrong item. So piss\",\n",
        "\"Not greasy like Pizza hut, not flavorless like round table,this was a budget pizza with bold flavors\",\n",
        "\"“The GM walls around and checks in on the diners, Ilya is amazing, truly a one of a kind dining experience.” \",\n",
        "\"The rest of the food was ok. Pastas were dry and lacked flavor. The side veggies were over cooked. \",\n",
        "\"Had the worst experience!! I made reservations for our anniversary a week ago, and was very excited to try this romantic restaurant for the first time. My reservation was for Tuesday at 9:30 pm. On Tuesday at 7 pm, I get a call from the restaurant saying my reservation is cancelled due to unexpected maintenance in the restaurant!!! ARE YOU KIDDING ME???? YOU CANCEL ON ME TWO HOURS BEFORE MY RESERVATION????? How unprofessional!!!!!\",\n",
        "]"
      ],
      "execution_count": 0,
      "outputs": []
    },
    {
      "metadata": {
        "id": "6MGrQYV0XNsa",
        "colab_type": "text"
      },
      "cell_type": "markdown",
      "source": [
        "## Example call of the function"
      ]
    },
    {
      "metadata": {
        "id": "HIwn79kuLJa2",
        "colab_type": "code",
        "outputId": "48d342be-78f7-4a87-d9cf-36e3000b5672",
        "colab": {
          "base_uri": "https://localhost:8080/",
          "height": 1580
        }
      },
      "cell_type": "code",
      "source": [
        "example_call = basic_sentiment_analysis(review_list)\n",
        "\n",
        "for review in example_call:\n",
        "  print(review['id'], '. ' , review['review'], '\\n', 'Score: ', review['score'], '\\n\\n')"
      ],
      "execution_count": 0,
      "outputs": [
        {
          "output_type": "stream",
          "text": [
            "1 .  Warren Beatty has never been so entertaining. \n",
            " Score:  0.5777 \n",
            "\n",
            "\n",
            "2 .  Unbelievably bad acting!! \n",
            " Score:  -0.6572 \n",
            "\n",
            "\n",
            "3 .  I like to hate Michael Bay films, but I couldn't fault this one \n",
            " Score:  0.3153 \n",
            "\n",
            "\n",
            "4 .  The wait staff was HORRIBLE \n",
            " Score:  -0.6408 \n",
            "\n",
            "\n",
            "5 .  I thoroughly enjoyed my meal \n",
            " Score:  0.5563 \n",
            "\n",
            "\n",
            "6 .  I feel ripped off and cheated \n",
            " Score:  -0.5106 \n",
            "\n",
            "\n",
            "7 .  My family and I had a wonderful time at the restaurant. \n",
            " Score:  0.5719 \n",
            "\n",
            "\n",
            "8 .  I like to hate Michael Bay films, and this time is no different. \n",
            " Score:  -0.5267 \n",
            "\n",
            "\n",
            "9 .  The Chicken sandwich with cheese and lettuce. I also get it with their fries, which are waffle fries!!! \n",
            " Score:  0.0 \n",
            "\n",
            "\n",
            "10 .  I've never had a complaint here, get the usual which is a #2 Spicy Chicken sandwich with sweet tea and I'm happy! \n",
            " Score:  0.8351 \n",
            "\n",
            "\n",
            "11 .  The Polynesian sauce is a little meh, but the Chick-fil-A honey mustard is pretty FTW. \n",
            " Score:  0.8859 \n",
            "\n",
            "\n",
            "12 .  The food is so delicious and tasty overall and the milkshakes are one of the absolute best I ever had! \n",
            " Score:  0.8816 \n",
            "\n",
            "\n",
            "13 .  I also like the decor of the restaurant, I felt like I was at a restaurant and not a fast food joint. \n",
            " Score:  0.6124 \n",
            "\n",
            "\n",
            "14 .  This location was a disappointment. Literally a mess, if you like stale fries, and cold chicken then pull up. Otherwise go to another location. \n",
            " Score:  -0.5106 \n",
            "\n",
            "\n",
            "15 .  Drive through line was 40 minutes long. Food was cold and the people working were clueless and rushing the service. Probably the worst I've ever been spoken to at a chick-fil-A. And how do you even run out of large fries? \n",
            " Score:  -0.765 \n",
            "\n",
            "\n",
            "16 .  My review highlights this location only: PLUS - The Original Chicken Sandwich was perfect. Staff provided smooth service and were courteous from start to finish. MINUS - The fries were soggy - limp and just sad. The place was packed, and while the cashiers did a great job of moving the line through quickly, our to-go order got passed up, and we had to ask where our order was after seeing several other orders move through. I don't know if it had to be re-made or was just overlooked on the counter, but it wasn't fun having to deal with.  \n",
            " Score:  0.261 \n",
            "\n",
            "\n",
            "17 .  Wow, just wow! Was expecting my chicken sandwich and I got tiny pieces of meat. I hate Chick-fill-a today or whoever served me up. The person even repeated my order, and gave me the wrong item. So piss \n",
            " Score:  -0.358 \n",
            "\n",
            "\n",
            "18 .  Not greasy like Pizza hut, not flavorless like round table,this was a budget pizza with bold flavors \n",
            " Score:  -0.1581 \n",
            "\n",
            "\n",
            "19 .  “The GM walls around and checks in on the diners, Ilya is amazing, truly a one of a kind dining experience.”  \n",
            " Score:  0.8779 \n",
            "\n",
            "\n",
            "20 .  The rest of the food was ok. Pastas were dry and lacked flavor. The side veggies were over cooked.  \n",
            " Score:  0.296 \n",
            "\n",
            "\n",
            "21 .  Had the worst experience!! I made reservations for our anniversary a week ago, and was very excited to try this romantic restaurant for the first time. My reservation was for Tuesday at 9:30 pm. On Tuesday at 7 pm, I get a call from the restaurant saying my reservation is cancelled due to unexpected maintenance in the restaurant!!! ARE YOU KIDDING ME???? YOU CANCEL ON ME TWO HOURS BEFORE MY RESERVATION????? How unprofessional!!!!! \n",
            " Score:  -0.6136 \n",
            "\n",
            "\n"
          ],
          "name": "stdout"
        }
      ]
    },
    {
      "metadata": {
        "id": "q0eyrPMvrqdk",
        "colab_type": "text"
      },
      "cell_type": "markdown",
      "source": [
        "##Mood Clouds"
      ]
    },
    {
      "metadata": {
        "id": "MpvNEDEOta11",
        "colab_type": "code",
        "outputId": "2115c572-b18d-4188-834f-fd9021103ab1",
        "colab": {
          "base_uri": "https://localhost:8080/",
          "height": 89
        }
      },
      "cell_type": "code",
      "source": [
        "!pip install wordcloud"
      ],
      "execution_count": 0,
      "outputs": [
        {
          "output_type": "stream",
          "text": [
            "Requirement already satisfied: wordcloud in /usr/local/lib/python3.6/dist-packages (1.5.0)\n",
            "Requirement already satisfied: pillow in /usr/local/lib/python3.6/dist-packages (from wordcloud) (4.1.1)\n",
            "Requirement already satisfied: numpy>=1.6.1 in /usr/local/lib/python3.6/dist-packages (from wordcloud) (1.14.6)\n",
            "Requirement already satisfied: olefile in /usr/local/lib/python3.6/dist-packages (from pillow->wordcloud) (0.46)\n"
          ],
          "name": "stdout"
        }
      ]
    },
    {
      "metadata": {
        "id": "ZQPDvIquuHpM",
        "colab_type": "code",
        "outputId": "df461fa9-db83-4da5-c435-66bf96fe27bb",
        "colab": {
          "base_uri": "https://localhost:8080/",
          "height": 215
        }
      },
      "cell_type": "code",
      "source": [
        "!wget https://upload.wikimedia.org/wikipedia/commons/6/61/Black_Circle.jpg\n"
      ],
      "execution_count": 0,
      "outputs": [
        {
          "output_type": "stream",
          "text": [
            "--2019-03-11 03:13:35--  https://upload.wikimedia.org/wikipedia/commons/6/61/Black_Circle.jpg\n",
            "Resolving upload.wikimedia.org (upload.wikimedia.org)... 198.35.26.112, 2620:0:861:ed1a::2:b\n",
            "Connecting to upload.wikimedia.org (upload.wikimedia.org)|198.35.26.112|:443... connected.\n",
            "HTTP request sent, awaiting response... 200 OK\n",
            "Length: 14749 (14K) [image/jpeg]\n",
            "Saving to: ‘Black_Circle.jpg.1’\n",
            "\n",
            "\rBlack_Circle.jpg.1    0%[                    ]       0  --.-KB/s               \rBlack_Circle.jpg.1  100%[===================>]  14.40K  --.-KB/s    in 0.002s  \n",
            "\n",
            "2019-03-11 03:13:35 (6.88 MB/s) - ‘Black_Circle.jpg.1’ saved [14749/14749]\n",
            "\n"
          ],
          "name": "stdout"
        }
      ]
    },
    {
      "metadata": {
        "id": "Kbz35yxytIDr",
        "colab_type": "code",
        "colab": {}
      },
      "cell_type": "code",
      "source": [
        "import PIL\n",
        "from PIL import Image, ImageDraw, ImageFont\n",
        "from IPython import display\n",
        "import matplotlib.pyplot as plt\n",
        "from wordcloud import WordCloud, STOPWORDS\n",
        "import numpy as np\n",
        "from os import path\n",
        "\n"
      ],
      "execution_count": 0,
      "outputs": []
    },
    {
      "metadata": {
        "colab_type": "code",
        "id": "vsveyuYgx7ef",
        "colab": {}
      },
      "cell_type": "code",
      "source": [
        "stopwords = set(STOPWORDS)"
      ],
      "execution_count": 0,
      "outputs": []
    },
    {
      "metadata": {
        "id": "2Z0T75PYLalA",
        "colab_type": "code",
        "colab": {}
      },
      "cell_type": "code",
      "source": [
        "\n",
        "\n",
        "\n",
        "\n",
        "\n",
        "def review_tokenize(review_list):\n",
        "  filtered_text = ''\n",
        "  \n",
        "  for review in review_list:\n",
        "    sentences = nltk.sent_tokenize(review)\n",
        "    for sentence in sentences:\n",
        "      tokens = nltk.pos_tag(nltk.word_tokenize(sentence))\n",
        "\n",
        "      for i in tokens:\n",
        "        if i[1] == \"JJ\":\n",
        "          filtered_text += i[0] + \" \"\n",
        "  return filtered_text\n"
      ],
      "execution_count": 0,
      "outputs": []
    },
    {
      "metadata": {
        "id": "0VnqY1P9st5r",
        "colab_type": "code",
        "colab": {}
      },
      "cell_type": "code",
      "source": [
        "tokenized_reviews = review_tokenize(review_list)"
      ],
      "execution_count": 0,
      "outputs": []
    },
    {
      "metadata": {
        "id": "n20mfxBWt50e",
        "colab_type": "code",
        "colab": {}
      },
      "cell_type": "code",
      "source": [
        "def green_red_color_func(word, font_size, position, orientation, random_state=None, **kwargs):\n",
        "    return \"hsl({}, 100%, 50%)\".format(int(70.0 * sid.polarity_scores(word)[\"compound\"] + 45.0))"
      ],
      "execution_count": 0,
      "outputs": []
    },
    {
      "metadata": {
        "id": "HHTPjhuCs6sS",
        "colab_type": "code",
        "colab": {}
      },
      "cell_type": "code",
      "source": [
        "def create_wordcloud(text, name):\n",
        "  mask = np.array(PIL.Image.open(\"Black_Circle.jpg\").resize((540,540)))\n",
        "  wc = WordCloud(background_color=\"rgba(255, 255, 255, 0)\", mode=\"RGBA\", max_words=1000, mask=mask, stopwords=stopwords, margin=5,\n",
        "               random_state=1).generate(text)\n",
        "  wc.recolor(color_func=green_red_color_func)\n",
        "  wc.to_file( name + \".png\")\n",
        "  display.display(display.Image(filename=(name + \".png\")))"
      ],
      "execution_count": 0,
      "outputs": []
    },
    {
      "metadata": {
        "id": "szdQsxLytkFi",
        "colab_type": "code",
        "outputId": "a129e7bf-ae8c-4617-d4cc-81cbdcc5b9c5",
        "colab": {
          "base_uri": "https://localhost:8080/",
          "height": 557
        }
      },
      "cell_type": "code",
      "source": [
        "create_wordcloud(tokenized_reviews, 'example')"
      ],
      "execution_count": 0,
      "outputs": [
        {
          "output_type": "display_data",
          "data": {
            "image/png": "[encoded data removed]",
            "text/plain": [
              "<IPython.core.display.Image object>"
            ]
          },
          "metadata": {
            "tags": []
          }
        }
      ]
    }
  ]
}